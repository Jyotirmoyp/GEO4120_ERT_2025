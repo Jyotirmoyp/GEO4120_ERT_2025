{
 "cells": [
  {
   "cell_type": "code",
   "execution_count": null,
   "id": "a1e05ba5-5d62-4ec1-b432-0ba2b4307bbc",
   "metadata": {},
   "outputs": [],
   "source": [
    "#import modules\n",
    "import pygimli as pg\n",
    "import pygimli.meshtools as mt"
   ]
  },
  {
   "cell_type": "code",
   "execution_count": null,
   "id": "9ad91145-d3d1-446b-b958-87c7e24f3992",
   "metadata": {
    "editable": true,
    "slideshow": {
     "slide_type": ""
    },
    "tags": []
   },
   "outputs": [],
   "source": [
    "#define geometry\n",
    "left = 30\n",
    "right = 30\n",
    "depth = 25\n",
    "\n",
    "domain = mt.createWorld(start = [-left, 0], \n",
    "                        end = [right, -depth], \n",
    "                        layers = [-7]\n",
    "                       )"
   ]
  },
  {
   "cell_type": "code",
   "execution_count": null,
   "id": "728b3107-0830-4a2c-be17-ee4056855178",
   "metadata": {},
   "outputs": [],
   "source": [
    "pg.show(domain)"
   ]
  },
  {
   "cell_type": "code",
   "execution_count": null,
   "id": "e627bfb0-007d-4154-a568-8c2b22524779",
   "metadata": {
    "editable": true,
    "slideshow": {
     "slide_type": ""
    },
    "tags": []
   },
   "outputs": [],
   "source": [
    "#add a line\n",
    "line = mt.createLine(start = [-left, -12], \n",
    "                    end = [right, -20], \n",
    "                    )\n",
    "\n",
    "geom = domain + line\n",
    "pg.show(geom)"
   ]
  },
  {
   "cell_type": "code",
   "execution_count": null,
   "id": "de755de2-4057-464d-af65-4470f5d9980e",
   "metadata": {
    "editable": true,
    "slideshow": {
     "slide_type": ""
    },
    "tags": []
   },
   "outputs": [],
   "source": [
    "#adda a polygon\n",
    "blob = mt.createPolygon([[5, -9],\n",
    "                       [10, -8],\n",
    "                       [22, -11], \n",
    "                       [15, -15],\n",
    "                       [12, -14],  \n",
    "                       [7, -10]], \n",
    "                       isClosed=True,\n",
    "                       addNodes=8, \n",
    "                       interpolate='spline', \n",
    "                       marker = 3)\n",
    "\n",
    "geom = domain + line + blob\n",
    "pg.show(geom)"
   ]
  },
  {
   "cell_type": "code",
   "execution_count": null,
   "id": "c11571a8-dd24-4b48-8a3b-907f95a8119c",
   "metadata": {
    "editable": true,
    "slideshow": {
     "slide_type": ""
    },
    "tags": []
   },
   "outputs": [],
   "source": [
    "#create mesh\n",
    "mesh = mt.createMesh(geom, quality = 34)\n",
    "pg.show(mesh)"
   ]
  },
  {
   "cell_type": "code",
   "execution_count": null,
   "id": "1d73b6d3-de44-430e-a8cf-c83d811203c0",
   "metadata": {
    "editable": true,
    "slideshow": {
     "slide_type": ""
    },
    "tags": []
   },
   "outputs": [],
   "source": [
    "mesh.save('ex1.bms')"
   ]
  }
 ],
 "metadata": {
  "kernelspec": {
   "display_name": "Python 3 (ipykernel)",
   "language": "python",
   "name": "python3"
  },
  "language_info": {
   "codemirror_mode": {
    "name": "ipython",
    "version": 3
   },
   "file_extension": ".py",
   "mimetype": "text/x-python",
   "name": "python",
   "nbconvert_exporter": "python",
   "pygments_lexer": "ipython3",
   "version": "3.11.9"
  }
 },
 "nbformat": 4,
 "nbformat_minor": 5
}
