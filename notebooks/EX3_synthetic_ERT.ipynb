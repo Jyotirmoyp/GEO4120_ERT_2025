{
 "cells": [
  {
   "cell_type": "code",
   "execution_count": null,
   "id": "565855c2-b1ee-404c-8172-a3e77a48eed0",
   "metadata": {
    "editable": true,
    "slideshow": {
     "slide_type": ""
    },
    "tags": []
   },
   "outputs": [],
   "source": [
    "#import moduls\n",
    "import pygimli as pg\n",
    "import pygimli.meshtools as mt\n",
    "from pygimli.physics import ert\n",
    "import numpy as np\n",
    "import matplotlib.pyplot as plt"
   ]
  },
  {
   "cell_type": "code",
   "execution_count": null,
   "id": "24f4ac44-b459-4868-af9c-7c17dc73535f",
   "metadata": {
    "editable": true,
    "slideshow": {
     "slide_type": ""
    },
    "tags": []
   },
   "outputs": [],
   "source": [
    "#define geometry\n",
    "left = 50\n",
    "right = 50\n",
    "depth = 50\n",
    "\n",
    "domain = mt.createWorld(start = [-left, 0], \n",
    "                        end = [right, -depth], \n",
    "                        layers = [-1, -10],\n",
    "                        worldMarker=True)\n",
    "\n",
    "#adda a polygon\n",
    "blob = mt.createPolygon([[0, -2.5],\n",
    "                       [5, -2],\n",
    "                       [12, -3.4], \n",
    "                       [8, -3.6],\n",
    "                       [3, -3.7]], \n",
    "                       isClosed=True,\n",
    "                       addNodes=8, \n",
    "                       interpolate='spline', \n",
    "                       marker = 4)\n",
    "\n",
    "geom = domain + blob\n",
    "pg.show(geom)\n"
   ]
  },
  {
   "cell_type": "code",
   "execution_count": null,
   "id": "536ea78e-9628-4069-bc8c-f9b2554ca438",
   "metadata": {
    "editable": true,
    "slideshow": {
     "slide_type": ""
    },
    "tags": []
   },
   "outputs": [],
   "source": [
    "#create synthetic electrodes\n",
    "# from -15 to 15 m, we are putting 21 sensors using dipole-dipole scheme\n",
    "scheme = ert.createData(elecs=np.linspace(start=-20, stop=20, num=21),\n",
    "                           schemeName='wa')\n",
    "\n",
    "# further refinement nodes at 10% distance  of electrode spacing for better accuracy \n",
    "for p in scheme.sensors():\n",
    "    geom.createNode(p)\n",
    "    geom.createNode(p - [0, 0.1])\n",
    "    \n",
    "#create mesh\n",
    "mesh = mt.createMesh(geom, quality = 34)\n",
    "\n",
    "# create the resistivity map\n",
    "rho = [[1,80], \n",
    "      [2, 20],\n",
    "      [3, 120],\n",
    "      [4, 140]]\n",
    "\n",
    "#create mesh\n",
    "\n",
    "pg.show(mesh, data=rho, label=pg.unit('res'), showMesh=True)"
   ]
  },
  {
   "cell_type": "code",
   "execution_count": null,
   "id": "6db0f324-5fe6-499d-8bff-56673000f63d",
   "metadata": {},
   "outputs": [],
   "source": [
    "#simulate synthetic data\n",
    "\n",
    "data = ert.simulate(mesh, scheme=scheme, res=rho, noiseLevel=1,\n",
    "                    noiseAbs=1e-6, seed=1337)\n",
    "\n",
    "pg.info(np.linalg.norm(data['err']), np.linalg.norm(data['rhoa']))\n",
    "pg.info('Simulated data', data)\n",
    "pg.info('The data contains:', data.dataMap().keys())\n",
    "\n",
    "pg.info('Simulated rhoa (min/max)', min(data['rhoa']), max(data['rhoa']))\n",
    "pg.info('Selected data noise %(min/max)', min(data['err'])*100, max(data['err'])*100)"
   ]
  },
  {
   "cell_type": "code",
   "execution_count": null,
   "id": "913e328b-b4ba-423a-9bb7-6bef281b730b",
   "metadata": {},
   "outputs": [],
   "source": [
    "# data filter\n",
    "# remove any data which is less or equal 0\n",
    "#check minmax\n",
    "data.remove(data['rhoa']<= 0)\n",
    "pg.info('Filtered rhoa (min/max)', min(data['rhoa']), max(data['rhoa']))\n",
    "data.save('EX3_synth.dat')\n",
    "\n",
    "# You can take a look at the data\n",
    "ert.show(data)"
   ]
  },
  {
   "cell_type": "code",
   "execution_count": null,
   "id": "d70b44e9-6290-43e1-a0f4-2b1f2734257f",
   "metadata": {},
   "outputs": [],
   "source": [
    "# data inversion \n",
    "mgr = ert.ERTManager('EX3_synth.dat')\n",
    "inv = mgr.invert(lam =20, verbose = True)\n",
    "#np.testing.assert_approx_equal(mgr.inv.chi2(), 0.7, significant=1)"
   ]
  },
  {
   "cell_type": "code",
   "execution_count": null,
   "id": "db6d58a5-5077-4357-8dbc-0ea48854de09",
   "metadata": {},
   "outputs": [],
   "source": [
    "mgr.showResultAndFit()\n",
    "meshPD = pg.Mesh(mgr.paraDomain) # Save copy of para mesh for plotting later"
   ]
  },
  {
   "cell_type": "code",
   "execution_count": null,
   "id": "2837ddb9-e186-4b25-a9b0-06c5b6c9b69f",
   "metadata": {},
   "outputs": [],
   "source": [
    "inversionDomain = pg.createGrid(x=np.linspace(start=-22, stop=22, num=33),\n",
    "                                y=-pg.cat([0], pg.utils.grange(0.5, 8, n=5))[::-1],\n",
    "                                marker=2)"
   ]
  },
  {
   "cell_type": "code",
   "execution_count": null,
   "id": "977ce37f-1960-4ad5-8ba8-c736decf901e",
   "metadata": {},
   "outputs": [],
   "source": [
    "grid = pg.meshtools.appendTriangleBoundary(inversionDomain, marker=1,\n",
    "                                           xbound=50, ybound=50)\n",
    "pg.show(grid, markers=True)"
   ]
  },
  {
   "cell_type": "code",
   "execution_count": null,
   "id": "ac592277-8b9e-4437-9e96-3c7ac7aac396",
   "metadata": {},
   "outputs": [],
   "source": [
    "model = mgr.invert(data, mesh=grid, verbose=True)"
   ]
  },
  {
   "cell_type": "code",
   "execution_count": null,
   "id": "2dd4fe5f-2f8f-4b40-8d86-cc33c90909ec",
   "metadata": {},
   "outputs": [],
   "source": [
    "modelPD = mgr.paraModel(model)  # do the mapping\n",
    "pg.show(mgr.paraDomain, modelPD, label='Model', cMap='Spectral_r',\n",
    "        logScale=True, cMin=25, cMax=150)\n",
    "\n",
    "pg.info('Inversion stopped with chi² = {0:.3}'.format(mgr.fw.chi2()))\n",
    "\n",
    "fig, (ax1, ax2, ax3) = plt.subplots(3,1, sharex=True, sharey=True, figsize=(5.54,7))\n",
    "\n",
    "pg.show(mesh, rho, ax=ax1, hold=True, cMap=\"Spectral_r\", logScale=True,\n",
    "        orientation=\"vertical\", cMin=25, cMax=150)\n",
    "pg.show(meshPD, inv, ax=ax2, hold=True, cMap=\"Spectral_r\", logScale=True,\n",
    "        orientation=\"vertical\", cMin=25, cMax=150)\n",
    "mgr.showResult(ax=ax3, cMin=25, cMax=150, orientation=\"vertical\")\n",
    "\n",
    "labels = [\"True model\", \"Inversion unstructured mesh\", \"Inversion regular grid\"]\n",
    "for ax, label in zip([ax1, ax2, ax3], labels):\n",
    "    ax.set_xlim(mgr.paraDomain.xmin(), mgr.paraDomain.xmax())\n",
    "    ax.set_ylim(mgr.paraDomain.ymin(), mgr.paraDomain.ymax())\n",
    "    ax.set_title(label)"
   ]
  },
  {
   "cell_type": "code",
   "execution_count": null,
   "id": "9d98e30e-27c8-4ec9-8a55-b9541c4f8a7c",
   "metadata": {},
   "outputs": [],
   "source": []
  }
 ],
 "metadata": {
  "kernelspec": {
   "display_name": "Python 3 (ipykernel)",
   "language": "python",
   "name": "python3"
  },
  "language_info": {
   "codemirror_mode": {
    "name": "ipython",
    "version": 3
   },
   "file_extension": ".py",
   "mimetype": "text/x-python",
   "name": "python",
   "nbconvert_exporter": "python",
   "pygments_lexer": "ipython3",
   "version": "3.11.9"
  }
 },
 "nbformat": 4,
 "nbformat_minor": 5
}
